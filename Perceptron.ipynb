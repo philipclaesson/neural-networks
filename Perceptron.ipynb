{
 "cells": [
  {
   "cell_type": "code",
   "execution_count": 8,
   "metadata": {},
   "outputs": [],
   "source": [
    "import numpy as np\n",
    "import scipy.sparse as sps\n",
    "\n",
    "# Create classes: Perceptron, Connection\n",
    "\n",
    "# Create function: SIGN"
   ]
  },
  {
   "cell_type": "code",
   "execution_count": 9,
   "metadata": {
    "collapsed": true
   },
   "outputs": [],
   "source": [
    "# Parameters\n",
    "n_inputs = 2\n",
    "hidden_size = 1\n",
    "n_hidden = 1"
   ]
  },
  {
   "cell_type": "code",
   "execution_count": null,
   "metadata": {},
   "outputs": [],
   "source": []
  },
  {
   "cell_type": "code",
   "execution_count": 123,
   "metadata": {},
   "outputs": [],
   "source": [
    "class Network(object): \n",
    "    def __init__(self, n_inputs, hidden_size, n_hidden_layers, learning_rate = 0.2):\n",
    "        self.n_inputs = n_inputs\n",
    "        self.input = []\n",
    "        self.hidden_size = hidden_size\n",
    "        self.n_hidden = n_hidden\n",
    "        self.n_nodes = n_inputs + n_hidden*hidden_size + 1 #Number of nodes in network\n",
    "        self.connections = np.array([[0 for x in range(self.n_nodes)] for y in range(self.n_nodes)], dtype = float )\n",
    "        self.nodes = [0]*self.n_nodes\n",
    "        self.lr = learning_rate\n",
    "        \n",
    "        # Initiate input nodes\n",
    "        for i in range(n_inputs): \n",
    "            self.nodes[i] = Node(i)\n",
    "            \n",
    "        # Initiate hidden nodes\n",
    "        #for i in range(n_hidden_layers): \n",
    "            \n",
    "        # Initiate output node\n",
    "        self.nodes[-1] = (Perceptron(\"SIGN\"))\n",
    "        \n",
    "        # Set weights of connections\n",
    "        for i in range(self.n_inputs): \n",
    "            self.connections[i][-1] = 1; # From input to perceptron: weight = 1. \n",
    "            \n",
    "        self.connections[0][-1] = 3/2\n",
    "        \n",
    "        # Set w0 of perceptron\n",
    "        self.connections[-1][-1] = -2\n",
    "        print(self.connections)\n",
    "            \n",
    "    def test(self, inputs):\n",
    "        # Takes input and returns output according to the network. \n",
    "        output = 0\n",
    "        if len(inputs) != self.n_inputs:\n",
    "            print(\"Wrong number of inputs %s, should be %s\" %(inputs.length, self.n_inputs))\n",
    "        \n",
    "        for i, inp in enumerate(inputs):\n",
    "            self.nodes[i].setValue(inp)\n",
    "        \n",
    "        return self.nodes[-1].output(self.connections, self.nodes)\n",
    "    \n",
    "    def fit(self, epochs, input_data, output_data):\n",
    "        pass\n",
    "        # Fits the models according to the input and output data. \n",
    "        # Input is expected as an e * i matrix, output expected as e * 1"
   ]
  },
  {
   "cell_type": "code",
   "execution_count": 124,
   "metadata": {},
   "outputs": [],
   "source": [
    "class Node(object):\n",
    "    def __init__(self, index, value = None):\n",
    "        self.value = value\n",
    "        self.index = index \n",
    "        \n",
    "    def output(self, connections = None, nodes = None): \n",
    "        # for each node in input\n",
    "        return self.value  \n",
    "\n",
    "    def setValue(self, value):\n",
    "        self.value = value\n",
    "    \n",
    "class Perceptron(Node): \n",
    "    # Has a bunch of input-connections and output connections\n",
    "    def __init__(self, value = None, activation_function = \"SIGN\"): \n",
    "        Node.__init__(self, value)\n",
    "        self.activation_function = activation_function\n",
    "        \n",
    "    def sign(self, inp): \n",
    "        if inp < 0:\n",
    "            return -1\n",
    "        elif inp > 0: \n",
    "            return 1\n",
    "        else: \n",
    "            return 0\n",
    "        \n",
    "    def output(self, connections, nodes):\n",
    "        output = 0\n",
    "        for i, weight in enumerate(connections[:-1,2]): # Recursive stuff\n",
    "            output += nodes[i].output(connections, nodes)*weight\n",
    "            \n",
    "        \n",
    "        output += 1*connections[-1][-1] # Add bias. \n",
    "        \n",
    "        return self.sign(output)\n",
    "        "
   ]
  },
  {
   "cell_type": "code",
   "execution_count": 127,
   "metadata": {},
   "outputs": [
    {
     "name": "stdout",
     "output_type": "stream",
     "text": [
      "[[ 0.   0.   1.5]\n",
      " [ 0.   0.   1. ]\n",
      " [ 0.   0.  -2. ]]\n",
      "-1\n"
     ]
    }
   ],
   "source": [
    "n = Network(2,0,0)\n",
    "\n",
    "print(n.test([1,0]))\n",
    "\n"
   ]
  },
  {
   "cell_type": "code",
   "execution_count": null,
   "metadata": {
    "collapsed": true
   },
   "outputs": [],
   "source": []
  }
 ],
 "metadata": {
  "kernelspec": {
   "display_name": "Python 3",
   "language": "python",
   "name": "python3"
  },
  "language_info": {
   "codemirror_mode": {
    "name": "ipython",
    "version": 3
   },
   "file_extension": ".py",
   "mimetype": "text/x-python",
   "name": "python",
   "nbconvert_exporter": "python",
   "pygments_lexer": "ipython3",
   "version": "3.6.2"
  }
 },
 "nbformat": 4,
 "nbformat_minor": 2
}
